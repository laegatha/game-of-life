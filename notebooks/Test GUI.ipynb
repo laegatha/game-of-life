{
 "cells": [
  {
   "cell_type": "code",
   "execution_count": 6,
   "id": "b049e74b",
   "metadata": {},
   "outputs": [],
   "source": [
    "import sys\n",
    "sys.path.append('..')\n",
    "\n",
    "import skia\n",
    "\n",
    "from back.neighbors_searcher import NeighborsSearcher\n",
    "from back.cell_state_calculator import CellStateCalculator\n",
    "\n",
    "from front.cell_caracteristics import CELL_SIZE\n",
    "from front.window_manager import glfw_window, skia_surface\n",
    "\n",
    "from front.table_starter import TableStarter\n",
    "from back.table_builder import TableBuilder\n",
    "from front.game_launcher import GameLauncher\n",
    "\n",
    "from front.window_manager import glfw_window, skia_surface"
   ]
  },
  {
   "cell_type": "code",
   "execution_count": 7,
   "id": "c039c39f",
   "metadata": {},
   "outputs": [
    {
     "name": "stdout",
     "output_type": "stream",
     "text": [
      "Number of rows: 10\n",
      "10 rows\n",
      "Number of columns: 10\n",
      "10 columns\n",
      "Table surface: height = 160 ; width = 160\n"
     ]
    }
   ],
   "source": [
    "n_row, n_col, height, width = TableStarter().start_table()"
   ]
  },
  {
   "cell_type": "code",
   "execution_count": 8,
   "id": "197e1921",
   "metadata": {},
   "outputs": [
    {
     "data": {
      "text/plain": [
       "160"
      ]
     },
     "execution_count": 8,
     "metadata": {},
     "output_type": "execute_result"
    }
   ],
   "source": [
    "height"
   ]
  },
  {
   "cell_type": "code",
   "execution_count": 9,
   "id": "523f16a7",
   "metadata": {},
   "outputs": [
    {
     "data": {
      "text/plain": [
       "160"
      ]
     },
     "execution_count": 9,
     "metadata": {},
     "output_type": "execute_result"
    }
   ],
   "source": [
    "width"
   ]
  },
  {
   "cell_type": "code",
   "execution_count": 10,
   "id": "5d35309d",
   "metadata": {},
   "outputs": [
    {
     "name": "stdout",
     "output_type": "stream",
     "text": [
      "Number of iterations: 10\n",
      "10 iterations\n"
     ]
    }
   ],
   "source": [
    "n_iter = GameLauncher.n_iter_choice()"
   ]
  },
  {
   "cell_type": "code",
   "execution_count": 11,
   "id": "af2ef084",
   "metadata": {},
   "outputs": [],
   "source": [
    "initial_state = TableBuilder().build_table(n_row=n_row, n_col=n_col)"
   ]
  },
  {
   "cell_type": "code",
   "execution_count": 12,
   "id": "9df091e1",
   "metadata": {},
   "outputs": [
    {
     "data": {
      "text/plain": [
       "[[0, 0, 0, 1, 1, 1, 0, 1, 1, 1],\n",
       " [1, 1, 0, 1, 0, 0, 0, 0, 0, 0],\n",
       " [1, 0, 0, 0, 1, 0, 0, 0, 0, 1],\n",
       " [1, 1, 1, 1, 1, 1, 1, 1, 0, 1],\n",
       " [1, 0, 1, 0, 1, 1, 1, 0, 0, 0],\n",
       " [1, 0, 1, 0, 0, 0, 0, 1, 0, 0],\n",
       " [1, 1, 0, 0, 1, 1, 1, 1, 0, 1],\n",
       " [1, 1, 1, 0, 1, 0, 1, 0, 0, 1],\n",
       " [1, 1, 1, 1, 0, 0, 0, 1, 1, 0],\n",
       " [0, 1, 0, 1, 1, 1, 1, 0, 1, 0]]"
      ]
     },
     "execution_count": 12,
     "metadata": {},
     "output_type": "execute_result"
    }
   ],
   "source": [
    "initial_state"
   ]
  },
  {
   "cell_type": "code",
   "execution_count": 13,
   "id": "1ea8d8c9",
   "metadata": {},
   "outputs": [],
   "source": [
    "next_table = GameLauncher.compute_next_state_table(n_row=n_row, n_col=n_col, actual_state=initial_state)"
   ]
  },
  {
   "cell_type": "code",
   "execution_count": 14,
   "id": "f739c809",
   "metadata": {},
   "outputs": [
    {
     "data": {
      "text/plain": [
       "[[0, 0, 1, 1, 1, 0, 0, 0, 1, 0],\n",
       " [1, 1, 1, 1, 0, 1, 0, 0, 0, 1],\n",
       " [0, 0, 0, 0, 0, 0, 1, 0, 1, 0],\n",
       " [1, 0, 1, 0, 0, 0, 0, 1, 1, 0],\n",
       " [1, 0, 0, 0, 0, 0, 0, 0, 1, 0],\n",
       " [1, 0, 1, 0, 0, 0, 0, 1, 1, 0],\n",
       " [0, 0, 0, 0, 1, 0, 0, 1, 0, 0],\n",
       " [0, 0, 0, 0, 1, 0, 0, 0, 0, 1],\n",
       " [0, 0, 0, 0, 0, 0, 0, 0, 1, 1],\n",
       " [1, 1, 0, 1, 1, 1, 1, 0, 1, 0]]"
      ]
     },
     "execution_count": 14,
     "metadata": {},
     "output_type": "execute_result"
    }
   ],
   "source": [
    "next_table"
   ]
  },
  {
   "cell_type": "code",
   "execution_count": 15,
   "id": "8c87cc9c",
   "metadata": {},
   "outputs": [],
   "source": [
    "surface = skia.Surface(height, width)\n",
    "\n",
    "def draw_table_2(surface, table: list, n_row: int, n_col: int):\n",
    "        with surface as canvas:\n",
    "            for i in range(n_row):\n",
    "                for j in range(n_col):\n",
    "                    if table[i][j] == 1:\n",
    "                        rect, paint = GameLauncher.draw_one_cell(row=i, col=j, color='white')\n",
    "                    else:\n",
    "                        rect, paint = GameLauncher.draw_one_cell(row=i, col=j, color='black')\n",
    "                    canvas.drawRect(rect, paint)\n",
    "                    \n",
    "        image = surface.makeImageSnapshot()\n",
    "        return image"
   ]
  },
  {
   "cell_type": "code",
   "execution_count": 16,
   "id": "318bafbb",
   "metadata": {},
   "outputs": [
    {
     "data": {
      "image/png": "[encoded data removed]",
      "text/plain": [
       "Image(160, 160, ColorType.kBGRA_8888_ColorType, AlphaType.kPremul_AlphaType)"
      ]
     },
     "execution_count": 16,
     "metadata": {},
     "output_type": "execute_result"
    }
   ],
   "source": [
    "draw_table_2(surface=surface, table=initial_state, n_row=n_row, n_col=n_col)"
   ]
  },
  {
   "cell_type": "code",
   "execution_count": 17,
   "id": "e4923c94",
   "metadata": {},
   "outputs": [
    {
     "data": {
      "image/png": "[encoded data removed]",
      "text/plain": [
       "Image(160, 160, ColorType.kBGRA_8888_ColorType, AlphaType.kPremul_AlphaType)"
      ]
     },
     "execution_count": 17,
     "metadata": {},
     "output_type": "execute_result"
    }
   ],
   "source": [
    "draw_table_2(surface=surface, table=next_table, n_row=n_row, n_col=n_col)"
   ]
  },
  {
   "cell_type": "code",
   "execution_count": 20,
   "id": "2a2da0f8",
   "metadata": {},
   "outputs": [],
   "source": [
    "import time\n",
    "import contextlib, glfw, skia\n",
    "from OpenGL import GL\n",
    "\n",
    "with glfw_window(height, width) as window:\n",
    "    GL.glClear(GL.GL_COLOR_BUFFER_BIT)\n",
    "\n",
    "    with skia_surface(window) as surface:\n",
    "        with surface as canvas:\n",
    "            for i in range(n_row):\n",
    "                for j in range(n_col):\n",
    "                    if initial_state[i][j] == 1:\n",
    "                        rect, paint = GameLauncher.draw_one_cell(row=i, col=j, color='white')\n",
    "                    else:\n",
    "                        rect, paint = GameLauncher.draw_one_cell(row=i, col=j, color='black')\n",
    "                    canvas.drawRect(rect, paint)\n",
    "        surface.flushAndSubmit()\n",
    "        glfw.swap_buffers(window)\n",
    "        \n",
    "        time.sleep(5)\n",
    "        \n",
    "        with surface as canvas:\n",
    "            for i in range(n_row):\n",
    "                for j in range(n_col):\n",
    "                    if next_table[i][j] == 1:\n",
    "                        rect, paint = GameLauncher.draw_one_cell(row=i, col=j, color='white')\n",
    "                    else:\n",
    "                        rect, paint = GameLauncher.draw_one_cell(row=i, col=j, color='black')\n",
    "                    canvas.drawRect(rect, paint)\n",
    "        surface.flushAndSubmit()\n",
    "        glfw.swap_buffers(window)\n",
    "        \n",
    "        time.sleep(5)\n",
    "        \n",
    "        while (glfw.get_key(window, glfw.KEY_ESCAPE) != glfw.PRESS\n",
    "            and not glfw.window_should_close(window)):\n",
    "            glfw.wait_events()"
   ]
  },
  {
   "cell_type": "code",
   "execution_count": null,
   "id": "f5a12eb0",
   "metadata": {},
   "outputs": [],
   "source": []
  }
 ],
 "metadata": {
  "kernelspec": {
   "display_name": "Python 3 (ipykernel)",
   "language": "python",
   "name": "python3"
  },
  "language_info": {
   "codemirror_mode": {
    "name": "ipython",
    "version": 3
   },
   "file_extension": ".py",
   "mimetype": "text/x-python",
   "name": "python",
   "nbconvert_exporter": "python",
   "pygments_lexer": "ipython3",
   "version": "3.10.4"
  }
 },
 "nbformat": 4,
 "nbformat_minor": 5
}
