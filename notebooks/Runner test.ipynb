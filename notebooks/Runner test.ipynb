{
 "cells": [
  {
   "cell_type": "code",
   "execution_count": 1,
   "id": "529a85dc",
   "metadata": {},
   "outputs": [],
   "source": [
    "import sys\n",
    "sys.path.append('..')\n",
    "\n",
    "from runner import Runner"
   ]
  },
  {
   "cell_type": "code",
   "execution_count": 2,
   "id": "83302ece",
   "metadata": {},
   "outputs": [
    {
     "name": "stdout",
     "output_type": "stream",
     "text": [
      "Number of rows: 20\n",
      "20 rows\n",
      "Number of columns: 20\n",
      "20 columns\n",
      "Table surface: height = 320 ; width = 320\n",
      "Number of iterations: 10\n",
      "10 iterations\n"
     ]
    }
   ],
   "source": [
    "Runner.run()"
   ]
  },
  {
   "cell_type": "code",
   "execution_count": null,
   "id": "d0488ba7",
   "metadata": {},
   "outputs": [],
   "source": []
  }
 ],
 "metadata": {
  "kernelspec": {
   "display_name": "Python 3 (ipykernel)",
   "language": "python",
   "name": "python3"
  },
  "language_info": {
   "codemirror_mode": {
    "name": "ipython",
    "version": 3
   },
   "file_extension": ".py",
   "mimetype": "text/x-python",
   "name": "python",
   "nbconvert_exporter": "python",
   "pygments_lexer": "ipython3",
   "version": "3.10.4"
  }
 },
 "nbformat": 4,
 "nbformat_minor": 5
}
