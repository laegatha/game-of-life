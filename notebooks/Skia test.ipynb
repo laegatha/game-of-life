{
 "cells": [
  {
   "cell_type": "code",
   "execution_count": 5,
   "metadata": {},
   "outputs": [],
   "source": [
    "import skia"
   ]
  },
  {
   "cell_type": "code",
   "execution_count": 51,
   "metadata": {},
   "outputs": [
    {
     "data": {
      "image/png": "[encoded data removed]",
      "text/plain": [
       "Image(128, 128, ColorType.kBGRA_8888_ColorType, AlphaType.kPremul_AlphaType)"
      ]
     },
     "execution_count": 51,
     "metadata": {},
     "output_type": "execute_result"
    }
   ],
   "source": [
    "surface = skia.Surface(128, 128)\n",
    "\n",
    "with surface as canvas:\n",
    "    rect = skia.Rect(32, 32, 96, 96)\n",
    "    paint = skia.Paint(\n",
    "        Color=skia.ColorBLUE,\n",
    "        Style=skia.Paint.kFill_Style)\n",
    "    canvas.drawRect(rect, paint)\n",
    "    #canvas.clear(skia.ColorWHITE)\n",
    "\n",
    "surface.makeImageSnapshot()"
   ]
  },
  {
   "cell_type": "code",
   "execution_count": 4,
   "metadata": {},
   "outputs": [
    {
     "data": {
      "image/png": "[encoded data removed]",
      "text/plain": [
       "<IPython.core.display.Image object>"
      ]
     },
     "metadata": {},
     "output_type": "display_data"
    },
    {
     "data": {
      "image/png": "[encoded data removed]",
      "text/plain": [
       "<IPython.core.display.Image object>"
      ]
     },
     "metadata": {},
     "output_type": "display_data"
    }
   ],
   "source": [
    "from IPython.display import display, Image\n",
    "\n",
    "surface = skia.Surface(128, 128)\n",
    "\n",
    "with surface as canvas:\n",
    "    rect = skia.Rect(96, 96, 32, 32)\n",
    "    paint = skia.Paint(\n",
    "        Color=skia.ColorBLUE,\n",
    "        Style=skia.Paint.kFill_Style)\n",
    "    canvas.drawRect(rect, paint)\n",
    "\n",
    "image = surface.makeImageSnapshot()\n",
    "display(Image(data=image.encodeToData()))\n",
    "    \n",
    "surface = skia.Surface(128, 128)\n",
    "\n",
    "with surface as canvas:\n",
    "    rect = skia.Rect(32, 32, 96, 96)\n",
    "    paint = skia.Paint(\n",
    "        Color=skia.ColorBLUE,\n",
    "        Style=skia.Paint.kFill_Style)\n",
    "    canvas.drawRect(rect, paint)\n",
    "\n",
    "image = surface.makeImageSnapshot()\n",
    "display(Image(data=image.encodeToData()))"
   ]
  },
  {
   "cell_type": "code",
   "execution_count": 39,
   "metadata": {},
   "outputs": [
    {
     "data": {
      "image/png": "[encoded data removed]",
      "text/plain": [
       "Image(128, 128, ColorType.kBGRA_8888_ColorType, AlphaType.kPremul_AlphaType)"
      ]
     },
     "execution_count": 39,
     "metadata": {},
     "output_type": "execute_result"
    }
   ],
   "source": [
    "surface = skia.Surface(128, 128)\n",
    "\n",
    "with surface as canvas:\n",
    "    rect_blue = skia.Rect(64, 64, 120, 128)\n",
    "    paint_blue = skia.Paint(\n",
    "        Color=skia.ColorBLUE,\n",
    "        Style=skia.Paint.kFill_Style)\n",
    "    canvas.drawRect(rect_blue, paint_blue)\n",
    "    \n",
    "    rect_red = skia.Rect(0, 0, 64, 64)\n",
    "    paint_red = skia.Paint(\n",
    "        Color=skia.ColorRED,\n",
    "        Style=skia.Paint.kFill_Style)\n",
    "    canvas.drawRect(rect_red, paint_red)\n",
    "\n",
    "image = surface.makeImageSnapshot()\n",
    "image"
   ]
  },
  {
   "cell_type": "code",
   "execution_count": null,
   "metadata": {},
   "outputs": [],
   "source": [
    "# x -> x + w\n",
    "# y\n",
    "# |\n",
    "# v\n",
    "# y + h"
   ]
  },
  {
   "cell_type": "code",
   "execution_count": 12,
   "metadata": {},
   "outputs": [],
   "source": [
    "table = [[0, 0, 1], [1, 1, 1], [1, 0, 1], [0, 1, 0]]"
   ]
  },
  {
   "cell_type": "code",
   "execution_count": 37,
   "metadata": {},
   "outputs": [
    {
     "name": "stdout",
     "output_type": "stream",
     "text": [
      "Surface : height = 64 ; width = 48\n"
     ]
    }
   ],
   "source": [
    "cell_size = 16\n",
    "n_row = len(table)\n",
    "n_col = len(table[0])\n",
    "height = n_row * cell_size\n",
    "width = n_col * cell_size\n",
    "surface = skia.Surface(height, width)\n",
    "print(f\"Surface : height = {height} ; width = {width}\")"
   ]
  },
  {
   "cell_type": "code",
   "execution_count": 34,
   "metadata": {},
   "outputs": [],
   "source": [
    "def draw_one_cell(cell_size: int, row: int, col: int, color: str):\n",
    "    rect = skia.Rect(col * cell_size, row * cell_size, (col+1) * cell_size, (row+1) * cell_size)\n",
    "    paint = skia.Paint(\n",
    "        Color=eval('skia.Color'+color.upper()),\n",
    "        Style=skia.Paint.kFill_Style)\n",
    "    canvas.drawRect(rect, paint)"
   ]
  },
  {
   "cell_type": "code",
   "execution_count": 38,
   "metadata": {},
   "outputs": [
    {
     "data": {
      "image/png": "[encoded data removed]",
      "text/plain": [
       "Image(64, 48, ColorType.kBGRA_8888_ColorType, AlphaType.kPremul_AlphaType)"
      ]
     },
     "execution_count": 38,
     "metadata": {},
     "output_type": "execute_result"
    }
   ],
   "source": [
    "with surface as canvas:\n",
    "    for i in range(n_row):\n",
    "        for j in range(n_col):\n",
    "            if table[i][j] == 1:\n",
    "                draw_one_cell(cell_size=cell_size, row=i, col=j, color='black')\n",
    "            else:\n",
    "                draw_one_cell(cell_size=cell_size, row=i, col=j, color='white')\n",
    "\n",
    "image = surface.makeImageSnapshot()\n",
    "image"
   ]
  },
  {
   "cell_type": "code",
   "execution_count": 7,
   "metadata": {},
   "outputs": [],
   "source": [
    "import contextlib, glfw, skia\n",
    "from OpenGL import GL\n",
    "\n",
    "WIDTH, HEIGHT = 640, 480\n",
    "\n",
    "@contextlib.contextmanager\n",
    "def glfw_window():\n",
    "    if not glfw.init():\n",
    "        raise RuntimeError('glfw.init() failed')\n",
    "    glfw.window_hint(glfw.STENCIL_BITS, 8)\n",
    "    window = glfw.create_window(WIDTH, HEIGHT, '', None, None)\n",
    "    glfw.make_context_current(window)\n",
    "    yield window\n",
    "    glfw.terminate()\n",
    "\n",
    "@contextlib.contextmanager\n",
    "def skia_surface(window):\n",
    "    context = skia.GrDirectContext.MakeGL()\n",
    "    (fb_width, fb_height) = glfw.get_framebuffer_size(window)\n",
    "    backend_render_target = skia.GrBackendRenderTarget(\n",
    "        fb_width,\n",
    "        fb_height,\n",
    "        0,  # sampleCnt\n",
    "        0,  # stencilBits\n",
    "        skia.GrGLFramebufferInfo(0, GL.GL_RGBA8))\n",
    "    surface = skia.Surface.MakeFromBackendRenderTarget(\n",
    "        context, backend_render_target, skia.kBottomLeft_GrSurfaceOrigin,\n",
    "        skia.kRGBA_8888_ColorType, skia.ColorSpace.MakeSRGB())\n",
    "    assert surface is not None\n",
    "    yield surface\n",
    "    context.abandonContext()"
   ]
  },
  {
   "cell_type": "code",
   "execution_count": 61,
   "metadata": {},
   "outputs": [],
   "source": [
    "import time\n",
    "\n",
    "with glfw_window() as window:\n",
    "    GL.glClear(GL.GL_COLOR_BUFFER_BIT)\n",
    "\n",
    "    with skia_surface(window) as surface:\n",
    "        with surface as canvas:\n",
    "            canvas.drawCircle(100, 100, 40, skia.Paint(Color=skia.ColorGREEN))\n",
    "        surface.flushAndSubmit()\n",
    "        glfw.swap_buffers(window)\n",
    "        \n",
    "        time.sleep(1)\n",
    "        \n",
    "        with surface as canvas:\n",
    "            canvas.drawCircle(200, 200, 80, skia.Paint(Color=skia.ColorGREEN))\n",
    "        surface.flushAndSubmit()\n",
    "        glfw.swap_buffers(window)\n",
    "        \n",
    "        time.sleep(1)\n",
    "        \n",
    "        with surface as canvas:\n",
    "            canvas.clear(skia.ColorBLACK)\n",
    "            rect = skia.Rect(96, 96, 32, 32)\n",
    "            paint = skia.Paint(\n",
    "                Color=skia.ColorBLUE,\n",
    "                Style=skia.Paint.kFill_Style)\n",
    "            canvas.drawRect(rect, paint)\n",
    "        surface.flushAndSubmit()\n",
    "        glfw.swap_buffers(window)\n",
    "        \n",
    "        while (glfw.get_key(window, glfw.KEY_ESCAPE) != glfw.PRESS\n",
    "            and not glfw.window_should_close(window)):\n",
    "            glfw.wait_events()"
   ]
  },
  {
   "cell_type": "code",
   "execution_count": null,
   "metadata": {},
   "outputs": [],
   "source": []
  }
 ],
 "metadata": {
  "kernelspec": {
   "display_name": "Python 3 (ipykernel)",
   "language": "python",
   "name": "python3"
  },
  "language_info": {
   "codemirror_mode": {
    "name": "ipython",
    "version": 3
   },
   "file_extension": ".py",
   "mimetype": "text/x-python",
   "name": "python",
   "nbconvert_exporter": "python",
   "pygments_lexer": "ipython3",
   "version": "3.10.4"
  }
 },
 "nbformat": 4,
 "nbformat_minor": 2
}
