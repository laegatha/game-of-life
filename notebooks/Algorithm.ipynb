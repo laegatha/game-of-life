{
 "cells": [
  {
   "cell_type": "code",
   "execution_count": 1,
   "metadata": {},
   "outputs": [],
   "source": [
    "from random import randint"
   ]
  },
  {
   "cell_type": "code",
   "execution_count": 2,
   "metadata": {},
   "outputs": [
    {
     "name": "stdout",
     "output_type": "stream",
     "text": [
      "Number of columns: 10\n",
      "10 columns\n"
     ]
    }
   ],
   "source": [
    "n_col_input = input('Number of columns: ')\n",
    "\n",
    "try:\n",
    "    n_col = int(n_col_input)\n",
    "    print(f\"{n_col} columns\")\n",
    "except ValueError:\n",
    "    print(\"This is not a valid number. Try the integer format\")"
   ]
  },
  {
   "cell_type": "code",
   "execution_count": 3,
   "metadata": {},
   "outputs": [
    {
     "name": "stdout",
     "output_type": "stream",
     "text": [
      "Number of rows: 10\n",
      "10 columns\n"
     ]
    }
   ],
   "source": [
    "n_row_input = input('Number of rows: ')\n",
    "\n",
    "try:\n",
    "    n_row = int(n_row_input)\n",
    "    print(f\"{n_row} columns\")\n",
    "except ValueError:\n",
    "    print(\"This is not a valid number. Try the integer format\")"
   ]
  },
  {
   "cell_type": "code",
   "execution_count": 84,
   "metadata": {},
   "outputs": [],
   "source": [
    "def build_one_list(n_col: int) -> list:\n",
    "    return [randint(0, 1) for i in range(n_col)]\n",
    "\n",
    "def build_table(n_row: int, n_col: int) -> list:\n",
    "    l = []\n",
    "    for i in range(n_row):\n",
    "        l.append(build_one_list(n_col))\n",
    "        \n",
    "    return l"
   ]
  },
  {
   "cell_type": "code",
   "execution_count": 85,
   "metadata": {},
   "outputs": [
    {
     "data": {
      "text/plain": [
       "[[0, 1, 0, 0, 1, 0, 1, 0, 1, 1],\n",
       " [1, 0, 0, 0, 0, 1, 1, 0, 1, 1],\n",
       " [0, 1, 0, 0, 0, 1, 1, 1, 0, 0],\n",
       " [0, 1, 0, 0, 1, 1, 1, 1, 0, 0],\n",
       " [0, 0, 0, 1, 1, 1, 0, 0, 0, 1],\n",
       " [0, 1, 0, 1, 0, 1, 0, 0, 0, 0],\n",
       " [0, 1, 0, 1, 1, 1, 1, 0, 1, 0],\n",
       " [0, 1, 1, 1, 0, 1, 0, 1, 1, 1],\n",
       " [1, 0, 1, 1, 0, 0, 1, 0, 0, 0],\n",
       " [1, 1, 0, 0, 1, 1, 0, 1, 0, 1]]"
      ]
     },
     "execution_count": 85,
     "metadata": {},
     "output_type": "execute_result"
    }
   ],
   "source": [
    "table = build_table(n_row, n_col)\n",
    "table"
   ]
  },
  {
   "cell_type": "markdown",
   "metadata": {},
   "source": [
    "Every cell interacts with its eight neighbours, which are the cells that are horizontally, vertically, or diagonally adjacent"
   ]
  },
  {
   "cell_type": "code",
   "execution_count": 86,
   "metadata": {},
   "outputs": [],
   "source": [
    "# classic cell\n",
    "# 1 2 3\n",
    "# 4 c 5\n",
    "# 6 7 8\n",
    "# 8 neighboors\n",
    "\n",
    "# corner cell\n",
    "# c 1\n",
    "# 2 3\n",
    "# 3 neighboors\n",
    "\n",
    "# border cell\n",
    "# 1 c 2\n",
    "# 3 4 5\n",
    "# 5 neighboors\n",
    "\n",
    "def get_start_x(x: int) -> int:\n",
    "    if x==0:\n",
    "        start_x = x\n",
    "    else:\n",
    "        start_x = x - 1\n",
    "    \n",
    "    return start_x\n",
    "\n",
    "def get_end_x(n_row: int, x: int) -> int:\n",
    "    if x==n_row - 1:\n",
    "        end_x = n_row - 1\n",
    "    else:\n",
    "        end_x = x + 1\n",
    "    \n",
    "    return end_x\n",
    "\n",
    "def get_start_y(y: int) -> int:\n",
    "    if y==0:\n",
    "        start_y = y\n",
    "    else:\n",
    "        start_y = y - 1\n",
    "        \n",
    "    return start_y\n",
    "\n",
    "def get_end_y(n_col: int, y:int) -> int:\n",
    "    if y==n_col - 1:\n",
    "        end_y = n_col - 1\n",
    "    else:\n",
    "        end_y = y + 1\n",
    "        \n",
    "    return end_y\n",
    "\n",
    "# i, j are cells coordinates : i for rows and j for columns\n",
    "def get_neighboors(n_row: int, n_col: int, table: list, x: int, y: int) -> list:\n",
    "    l_neighboors = []\n",
    "    \n",
    "    start_x = get_start_x(x)\n",
    "    end_x = get_end_x(n_row, x)\n",
    "    \n",
    "    start_y = get_start_y(y)\n",
    "    end_y = get_end_y(n_col, y)\n",
    "        \n",
    "    for i in range(start_x, end_x + 1):\n",
    "        for j in range(start_y, end_y + 1):\n",
    "            if i != x or j != y:\n",
    "                l_neighboors.append(table[i][j])\n",
    "            \n",
    "    return l_neighboors"
   ]
  },
  {
   "cell_type": "code",
   "execution_count": 87,
   "metadata": {},
   "outputs": [
    {
     "data": {
      "text/plain": [
       "0"
      ]
     },
     "execution_count": 87,
     "metadata": {},
     "output_type": "execute_result"
    }
   ],
   "source": [
    "cell_1_2_actual_state = table[1][2]\n",
    "cell_1_2_actual_state"
   ]
  },
  {
   "cell_type": "code",
   "execution_count": 88,
   "metadata": {},
   "outputs": [
    {
     "data": {
      "text/plain": [
       "[1, 0, 0, 0, 0, 1, 0, 0]"
      ]
     },
     "execution_count": 88,
     "metadata": {},
     "output_type": "execute_result"
    }
   ],
   "source": [
    "cell_1_2_neighboors = get_neighboors(n_row, n_col, table, x=1, y=2)\n",
    "cell_1_2_neighboors"
   ]
  },
  {
   "cell_type": "code",
   "execution_count": 89,
   "metadata": {},
   "outputs": [
    {
     "data": {
      "text/plain": [
       "[1, 1, 0]"
      ]
     },
     "execution_count": 89,
     "metadata": {},
     "output_type": "execute_result"
    }
   ],
   "source": [
    "cell_0_0_neighboors = get_neighboors(n_row, n_col, table, x=0, y=0)\n",
    "cell_0_0_neighboors"
   ]
  },
  {
   "cell_type": "code",
   "execution_count": 90,
   "metadata": {},
   "outputs": [
    {
     "data": {
      "text/plain": [
       "[0, 0, 1, 0, 1, 1, 1, 1]"
      ]
     },
     "execution_count": 90,
     "metadata": {},
     "output_type": "execute_result"
    }
   ],
   "source": [
    "cell_3_4_neighboors = get_neighboors(n_row, n_col, table, x=3, y=4)\n",
    "cell_3_4_neighboors"
   ]
  },
  {
   "cell_type": "markdown",
   "metadata": {},
   "source": [
    "1. Any live cell with fewer than two live neighbours dies, as if by underpopulation.   \n",
    "2. Any live cell with two or three live neighbours lives on to the next generation.   \n",
    "3. Any live cell with more than three live neighbours dies, as if by overpopulation.   \n",
    "4. Any dead cell with exactly three live neighbours becomes a live cell, as if by reproduction.   "
   ]
  },
  {
   "cell_type": "code",
   "execution_count": 91,
   "metadata": {},
   "outputs": [],
   "source": [
    "def get_next_state_live_cell(nb_neighboors: int) -> int:\n",
    "    if nb_neighboors < 2 or nb_neighboors > 3:\n",
    "        next_state = 0\n",
    "    else:\n",
    "        next_state = 1\n",
    "        \n",
    "    return next_state\n",
    "\n",
    "def get_next_state_dead_cell(nb_neighboors: int) -> int:\n",
    "    if nb_neighboors==3:\n",
    "        next_state = 1\n",
    "    else:\n",
    "        next_state = 0\n",
    "        \n",
    "    return next_state\n",
    "            \n",
    "\n",
    "def compute_next_state_cell(actual_state: int, neighboors: list) -> int:\n",
    "    nb_neighboors = sum(neighboors)\n",
    "    \n",
    "    if actual_state==1:\n",
    "        next_state = get_next_state_live_cell(nb_neighboors)         \n",
    "    else:\n",
    "        next_state = get_next_state_dead_cell(nb_neighboors)\n",
    "            \n",
    "    return next_state"
   ]
  },
  {
   "cell_type": "code",
   "execution_count": 92,
   "metadata": {},
   "outputs": [
    {
     "data": {
      "text/plain": [
       "0"
      ]
     },
     "execution_count": 92,
     "metadata": {},
     "output_type": "execute_result"
    }
   ],
   "source": [
    "cell_1_2_next_state = compute_next_state_cell(actual_state = cell_1_2_actual_state, neighboors = cell_1_2_neighboors)\n",
    "cell_1_2_next_state"
   ]
  },
  {
   "cell_type": "code",
   "execution_count": 93,
   "metadata": {},
   "outputs": [
    {
     "name": "stdout",
     "output_type": "stream",
     "text": [
      "Number of iterations: 10\n",
      "10 iterations\n"
     ]
    }
   ],
   "source": [
    "nb_iter_input = input('Number of iterations: ')\n",
    "\n",
    "try:\n",
    "    nb_iter = int(nb_iter_input)\n",
    "    print(f\"{nb_iter} iterations\")\n",
    "except ValueError:\n",
    "    print(\"This is not a valid number. Try the integer format\")"
   ]
  },
  {
   "cell_type": "code",
   "execution_count": 94,
   "metadata": {},
   "outputs": [],
   "source": [
    "def compute_next_state_table(n_row: int, n_col: int, actual_state: list) -> list:\n",
    "    next_state_table = []\n",
    "    for i in range(n_row):\n",
    "        l_row = []\n",
    "        for j in range(n_col):\n",
    "            neighboors = get_neighboors(n_row=n_row, n_col=n_col, table=actual_state, x=i, y=j)\n",
    "            next_state_cell = compute_next_state_cell(actual_state=actual_state[i][j], neighboors=neighboors)\n",
    "            l_row.append(next_state_cell)\n",
    "        \n",
    "        next_state_table.append(l_row)\n",
    "    \n",
    "    return next_state_table"
   ]
  },
  {
   "cell_type": "code",
   "execution_count": 95,
   "metadata": {},
   "outputs": [
    {
     "data": {
      "text/plain": [
       "[[0, 0, 0, 0, 0, 0, 1, 0, 1, 1],\n",
       " [1, 1, 0, 0, 1, 0, 0, 0, 0, 1],\n",
       " [1, 1, 0, 0, 0, 0, 0, 0, 0, 0],\n",
       " [0, 0, 1, 1, 0, 0, 0, 1, 1, 0],\n",
       " [0, 0, 0, 1, 0, 0, 0, 0, 0, 0],\n",
       " [0, 0, 0, 0, 0, 0, 0, 0, 0, 0],\n",
       " [1, 1, 0, 0, 0, 0, 0, 0, 1, 1],\n",
       " [1, 0, 0, 0, 0, 0, 0, 0, 1, 1],\n",
       " [1, 0, 0, 0, 0, 0, 0, 0, 0, 1],\n",
       " [1, 1, 1, 1, 1, 1, 1, 0, 0, 0]]"
      ]
     },
     "execution_count": 95,
     "metadata": {},
     "output_type": "execute_result"
    }
   ],
   "source": [
    "compute_next_state_table(n_row, n_col, table)"
   ]
  },
  {
   "cell_type": "code",
   "execution_count": 96,
   "metadata": {},
   "outputs": [],
   "source": [
    "def display_iterations_table(n_row: int, n_col:int, nb_iter: int, initial_state: list):\n",
    "    next_table = compute_next_state_table(n_row=n_row, n_col=n_col, actual_state=initial_state)\n",
    "    for l in next_table:\n",
    "        print(l)\n",
    "        \n",
    "    for i in range(1, nb_iter):\n",
    "        next_table = compute_next_state_table(n_row=n_row, n_col=n_col, actual_state=next_table)\n",
    "        print(' ')\n",
    "        for l in next_table:\n",
    "            print(l)"
   ]
  },
  {
   "cell_type": "code",
   "execution_count": 97,
   "metadata": {},
   "outputs": [
    {
     "name": "stdout",
     "output_type": "stream",
     "text": [
      "[0, 0, 0, 0, 0, 0, 1, 0, 1, 1]\n",
      "[1, 1, 0, 0, 1, 0, 0, 0, 0, 1]\n",
      "[1, 1, 0, 0, 0, 0, 0, 0, 0, 0]\n",
      "[0, 0, 1, 1, 0, 0, 0, 1, 1, 0]\n",
      "[0, 0, 0, 1, 0, 0, 0, 0, 0, 0]\n",
      "[0, 0, 0, 0, 0, 0, 0, 0, 0, 0]\n",
      "[1, 1, 0, 0, 0, 0, 0, 0, 1, 1]\n",
      "[1, 0, 0, 0, 0, 0, 0, 0, 1, 1]\n",
      "[1, 0, 0, 0, 0, 0, 0, 0, 0, 1]\n",
      "[1, 1, 1, 1, 1, 1, 1, 0, 0, 0]\n",
      " \n",
      "[0, 0, 0, 0, 0, 0, 0, 0, 1, 1]\n",
      "[1, 1, 0, 0, 0, 0, 0, 0, 1, 1]\n",
      "[1, 0, 0, 1, 0, 0, 0, 0, 1, 0]\n",
      "[0, 1, 1, 1, 0, 0, 0, 0, 0, 0]\n",
      "[0, 0, 1, 1, 0, 0, 0, 0, 0, 0]\n",
      "[0, 0, 0, 0, 0, 0, 0, 0, 0, 0]\n",
      "[1, 1, 0, 0, 0, 0, 0, 0, 1, 1]\n",
      "[1, 0, 0, 0, 0, 0, 0, 0, 0, 0]\n",
      "[1, 0, 1, 1, 1, 1, 0, 0, 1, 1]\n",
      "[1, 1, 1, 1, 1, 1, 0, 0, 0, 0]\n",
      " \n",
      "[0, 0, 0, 0, 0, 0, 0, 0, 1, 1]\n",
      "[1, 1, 0, 0, 0, 0, 0, 1, 0, 0]\n",
      "[1, 0, 0, 1, 0, 0, 0, 0, 1, 1]\n",
      "[0, 1, 0, 0, 1, 0, 0, 0, 0, 0]\n",
      "[0, 1, 0, 1, 0, 0, 0, 0, 0, 0]\n",
      "[0, 1, 1, 0, 0, 0, 0, 0, 0, 0]\n",
      "[1, 1, 0, 0, 0, 0, 0, 0, 0, 0]\n",
      "[1, 0, 1, 1, 1, 0, 0, 0, 0, 0]\n",
      "[1, 0, 0, 0, 0, 1, 0, 0, 0, 0]\n",
      "[1, 0, 0, 0, 0, 1, 0, 0, 0, 0]\n",
      " \n",
      "[0, 0, 0, 0, 0, 0, 0, 0, 1, 0]\n",
      "[1, 1, 0, 0, 0, 0, 0, 1, 0, 0]\n",
      "[1, 0, 1, 0, 0, 0, 0, 0, 1, 0]\n",
      "[1, 1, 0, 1, 1, 0, 0, 0, 0, 0]\n",
      "[1, 1, 0, 1, 0, 0, 0, 0, 0, 0]\n",
      "[0, 0, 0, 0, 0, 0, 0, 0, 0, 0]\n",
      "[1, 0, 0, 0, 0, 0, 0, 0, 0, 0]\n",
      "[1, 0, 1, 1, 1, 0, 0, 0, 0, 0]\n",
      "[1, 0, 0, 1, 0, 1, 0, 0, 0, 0]\n",
      "[0, 0, 0, 0, 0, 0, 0, 0, 0, 0]\n",
      " \n",
      "[0, 0, 0, 0, 0, 0, 0, 0, 0, 0]\n",
      "[1, 1, 0, 0, 0, 0, 0, 1, 1, 0]\n",
      "[0, 0, 1, 1, 0, 0, 0, 0, 0, 0]\n",
      "[0, 0, 0, 1, 1, 0, 0, 0, 0, 0]\n",
      "[1, 1, 0, 1, 1, 0, 0, 0, 0, 0]\n",
      "[1, 1, 0, 0, 0, 0, 0, 0, 0, 0]\n",
      "[0, 1, 0, 1, 0, 0, 0, 0, 0, 0]\n",
      "[1, 0, 1, 1, 1, 0, 0, 0, 0, 0]\n",
      "[0, 1, 1, 1, 0, 0, 0, 0, 0, 0]\n",
      "[0, 0, 0, 0, 0, 0, 0, 0, 0, 0]\n",
      " \n",
      "[0, 0, 0, 0, 0, 0, 0, 0, 0, 0]\n",
      "[0, 1, 1, 0, 0, 0, 0, 0, 0, 0]\n",
      "[0, 1, 1, 1, 1, 0, 0, 0, 0, 0]\n",
      "[0, 1, 0, 0, 0, 0, 0, 0, 0, 0]\n",
      "[1, 1, 0, 1, 1, 0, 0, 0, 0, 0]\n",
      "[0, 0, 0, 1, 1, 0, 0, 0, 0, 0]\n",
      "[0, 0, 0, 1, 1, 0, 0, 0, 0, 0]\n",
      "[1, 0, 0, 0, 1, 0, 0, 0, 0, 0]\n",
      "[0, 1, 0, 0, 1, 0, 0, 0, 0, 0]\n",
      "[0, 0, 1, 0, 0, 0, 0, 0, 0, 0]\n",
      " \n",
      "[0, 0, 0, 0, 0, 0, 0, 0, 0, 0]\n",
      "[0, 1, 0, 0, 0, 0, 0, 0, 0, 0]\n",
      "[1, 0, 0, 1, 0, 0, 0, 0, 0, 0]\n",
      "[0, 0, 0, 0, 0, 0, 0, 0, 0, 0]\n",
      "[1, 1, 0, 1, 1, 0, 0, 0, 0, 0]\n",
      "[0, 0, 0, 0, 0, 1, 0, 0, 0, 0]\n",
      "[0, 0, 0, 0, 0, 1, 0, 0, 0, 0]\n",
      "[0, 0, 0, 0, 1, 1, 0, 0, 0, 0]\n",
      "[0, 1, 0, 1, 0, 0, 0, 0, 0, 0]\n",
      "[0, 0, 0, 0, 0, 0, 0, 0, 0, 0]\n",
      " \n",
      "[0, 0, 0, 0, 0, 0, 0, 0, 0, 0]\n",
      "[0, 0, 0, 0, 0, 0, 0, 0, 0, 0]\n",
      "[0, 0, 0, 0, 0, 0, 0, 0, 0, 0]\n",
      "[1, 1, 1, 1, 1, 0, 0, 0, 0, 0]\n",
      "[0, 0, 0, 0, 1, 0, 0, 0, 0, 0]\n",
      "[0, 0, 0, 0, 0, 1, 0, 0, 0, 0]\n",
      "[0, 0, 0, 0, 0, 1, 1, 0, 0, 0]\n",
      "[0, 0, 0, 0, 1, 1, 0, 0, 0, 0]\n",
      "[0, 0, 0, 0, 1, 0, 0, 0, 0, 0]\n",
      "[0, 0, 0, 0, 0, 0, 0, 0, 0, 0]\n",
      " \n",
      "[0, 0, 0, 0, 0, 0, 0, 0, 0, 0]\n",
      "[0, 0, 0, 0, 0, 0, 0, 0, 0, 0]\n",
      "[0, 1, 1, 1, 0, 0, 0, 0, 0, 0]\n",
      "[0, 1, 1, 1, 1, 0, 0, 0, 0, 0]\n",
      "[0, 1, 1, 0, 1, 1, 0, 0, 0, 0]\n",
      "[0, 0, 0, 0, 1, 1, 1, 0, 0, 0]\n",
      "[0, 0, 0, 0, 0, 0, 1, 0, 0, 0]\n",
      "[0, 0, 0, 0, 1, 0, 1, 0, 0, 0]\n",
      "[0, 0, 0, 0, 1, 1, 0, 0, 0, 0]\n",
      "[0, 0, 0, 0, 0, 0, 0, 0, 0, 0]\n",
      " \n",
      "[0, 0, 0, 0, 0, 0, 0, 0, 0, 0]\n",
      "[0, 0, 1, 0, 0, 0, 0, 0, 0, 0]\n",
      "[0, 1, 0, 0, 1, 0, 0, 0, 0, 0]\n",
      "[1, 0, 0, 0, 0, 1, 0, 0, 0, 0]\n",
      "[0, 1, 0, 0, 0, 0, 1, 0, 0, 0]\n",
      "[0, 0, 0, 1, 1, 0, 1, 0, 0, 0]\n",
      "[0, 0, 0, 0, 1, 0, 1, 1, 0, 0]\n",
      "[0, 0, 0, 0, 1, 0, 1, 0, 0, 0]\n",
      "[0, 0, 0, 0, 1, 1, 0, 0, 0, 0]\n",
      "[0, 0, 0, 0, 0, 0, 0, 0, 0, 0]\n"
     ]
    }
   ],
   "source": [
    "display_iterations_table(n_row, n_col, nb_iter, table)"
   ]
  },
  {
   "cell_type": "code",
   "execution_count": null,
   "metadata": {},
   "outputs": [],
   "source": []
  }
 ],
 "metadata": {
  "kernelspec": {
   "display_name": "Python 3 (ipykernel)",
   "language": "python",
   "name": "python3"
  },
  "language_info": {
   "codemirror_mode": {
    "name": "ipython",
    "version": 3
   },
   "file_extension": ".py",
   "mimetype": "text/x-python",
   "name": "python",
   "nbconvert_exporter": "python",
   "pygments_lexer": "ipython3",
   "version": "3.10.2"
  }
 },
 "nbformat": 4,
 "nbformat_minor": 2
}
